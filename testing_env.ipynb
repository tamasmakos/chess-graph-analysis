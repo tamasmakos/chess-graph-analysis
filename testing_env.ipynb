{
 "cells": [
  {
   "cell_type": "code",
   "execution_count": 10,
   "metadata": {},
   "outputs": [
    {
     "name": "stdout",
     "output_type": "stream",
     "text": [
      "['rnbqkbnr/pppppppp/8/8/4P3/8/PPPP1PPP/RNBQKBNR b KQkq - 0 1', 'rnbqkbnr/ppp1pppp/3p4/8/4P3/8/PPPP1PPP/RNBQKBNR w KQkq - 0 2', 'rnbqkbnr/ppp1pppp/3p4/8/3PP3/8/PPP2PPP/RNBQKBNR b KQkq - 0 2', 'rnbqkb1r/ppp1pppp/3p1n2/8/3PP3/8/PPP2PPP/RNBQKBNR w KQkq - 1 3', 'rnbqkb1r/ppp1pppp/3p1n2/4P3/3P4/8/PPP2PPP/RNBQKBNR b KQkq - 0 3', 'rnbqkb1r/ppp1pppp/5n2/4p3/3P4/8/PPP2PPP/RNBQKBNR w KQkq - 0 4', 'rnbqkb1r/ppp1pppp/5n2/4P3/8/8/PPP2PPP/RNBQKBNR b KQkq - 0 4', 'rnb1kb1r/ppp1pppp/5n2/4P3/8/8/PPP2PPP/RNBqKBNR w KQkq - 0 5', 'rnb1kb1r/ppp1pppp/5n2/4P3/8/8/PPP2PPP/RNBK1BNR b kq - 0 5', 'rnb1kb1r/ppp1pppp/8/3nP3/8/8/PPP2PPP/RNBK1BNR w kq - 1 6', 'rnb1kb1r/ppp1pppp/8/3nP3/8/2N5/PPP2PPP/R1BK1BNR b kq - 2 6', 'rnb1kb1r/ppp2ppp/4p3/3nP3/8/2N5/PPP2PPP/R1BK1BNR w kq - 0 7', 'rnb1kb1r/ppp2ppp/4p3/3nP3/2B5/2N5/PPP2PPP/R1BK2NR b kq - 1 7', 'rnb1kb1r/ppp2ppp/4p3/4P3/2B5/2n5/PPP2PPP/R1BK2NR w kq - 0 8', 'rnb1kb1r/ppp2ppp/4p3/4P3/2B5/2P5/P1P2PPP/R1BK2NR b kq - 0 8', 'r1b1kb1r/ppp2ppp/2n1p3/4P3/2B5/2P5/P1P2PPP/R1BK2NR w kq - 1 9', 'r1b1kb1r/ppp2ppp/2n1p3/4P3/2B5/2P2N2/P1P2PPP/R1BK3R b kq - 2 9', 'r1b1k2r/ppp2ppp/2n1p3/2b1P3/2B5/2P2N2/P1P2PPP/R1BK3R w kq - 3 10', 'r1b1k2r/ppp2ppp/2n1p3/2b1P3/2B5/2P2N2/P1P1KPPP/R1B4R b kq - 4 10', 'r1b2rk1/ppp2ppp/2n1p3/2b1P3/2B5/2P2N2/P1P1KPPP/R1B4R w - - 5 11', 'r1b2rk1/ppp2ppp/2n1p3/2b1P3/2B5/2P2N2/P1P1KPPP/R1BR4 b - - 6 11', 'r1br2k1/ppp2ppp/2n1p3/2b1P3/2B5/2P2N2/P1P1KPPP/R1BR4 w - - 7 12', 'r1bR2k1/ppp2ppp/2n1p3/2b1P3/2B5/2P2N2/P1P1KPPP/R1B5 b - - 0 12', 'r1bn2k1/ppp2ppp/4p3/2b1P3/2B5/2P2N2/P1P1KPPP/R1B5 w - - 0 13', 'r1bn2k1/ppp2ppp/4p3/2b1P3/2B5/2P2N2/P1P2PPP/R1B2K2 b - - 1 13', 'r1b3k1/ppp2ppp/2n1p3/2b1P3/2B5/2P2N2/P1P2PPP/R1B2K2 w - - 2 14', 'r1b3k1/ppp2ppp/2n1p3/2b1P3/2B2B2/2P2N2/P1P2PPP/R4K2 b - - 3 14', 'r1b3k1/ppp2ppp/4p3/n1b1P3/2B2B2/2P2N2/P1P2PPP/R4K2 w - - 4 15', 'r1b3k1/ppp2ppp/4p3/n1b1P3/2B2B2/2P2N2/P1P2PPP/3R1K2 b - - 5 15', 'r1b3k1/ppp2ppp/4p3/2b1P3/2n2B2/2P2N2/P1P2PPP/3R1K2 w - - 0 16', 'r1bR2k1/ppp2ppp/4p3/2b1P3/2n2B2/2P2N2/P1P2PPP/5K2 b - - 1 16', 'r1bR1bk1/ppp2ppp/4p3/4P3/2n2B2/2P2N2/P1P2PPP/5K2 w - - 2 17', 'r1bR1bk1/ppp2ppp/4p3/4P3/2nN1B2/2P5/P1P2PPP/5K2 b - - 3 17', 'r1bR1bk1/ppp2ppp/4p3/4P3/3N1B2/2P5/P1Pn1PPP/5K2 w - - 4 18', 'r1bR1bk1/ppp2ppp/4p3/4P3/3N4/2P5/P1PB1PPP/5K2 b - - 0 18', 'r1bR1bk1/ppp3pp/4pp2/4P3/3N4/2P5/P1PB1PPP/5K2 w - - 0 19', 'r1bR1bk1/ppp3pp/4pp2/4P3/2PN4/8/P1PB1PPP/5K2 b - - 0 19', 'r1bR1bk1/ppp3pp/4p3/4p3/2PN4/8/P1PB1PPP/5K2 w - - 0 20', 'r1bR1bk1/ppp3pp/4p3/4p3/1BPN4/8/P1P2PPP/5K2 b - - 1 20', 'r1bR1b2/ppp2kpp/4p3/4p3/1BPN4/8/P1P2PPP/5K2 w - - 2 21', 'r1b2R2/ppp2kpp/4p3/4p3/1BPN4/8/P1P2PPP/5K2 b - - 0 21', 'r1b2R2/ppp3pp/4p1k1/4p3/1BPN4/8/P1P2PPP/5K2 w - - 1 22', 'r1b2R2/ppp3pp/4N1k1/4p3/1BP5/8/P1P2PPP/5K2 b - - 0 22', 'r4R2/ppp3pp/4b1k1/4p3/1BP5/8/P1P2PPP/5K2 w - - 0 23', 'R7/ppp3pp/4b1k1/4p3/1BP5/8/P1P2PPP/5K2 b - - 0 23', 'R7/ppp3pp/6k1/4p3/1Bb5/8/P1P2PPP/5K2 w - - 0 24', 'R7/ppp3pp/6k1/4p3/1Bb5/8/P1P2PPP/4K3 b - - 1 24', 'R7/ppp3pp/6k1/8/1Bb1p3/8/P1P2PPP/4K3 w - - 0 25', '8/Rpp3pp/6k1/8/1Bb1p3/8/P1P2PPP/4K3 b - - 0 25', '8/Rp4pp/6k1/2p5/1Bb1p3/8/P1P2PPP/4K3 w - - 0 26', '8/Rp4pp/6k1/2B5/2b1p3/8/P1P2PPP/4K3 b - - 0 26', '8/R5pp/6k1/1pB5/2b1p3/8/P1P2PPP/4K3 w - - 0 27', '8/1R4pp/6k1/1pB5/2b1p3/8/P1P2PPP/4K3 b - - 1 27', '8/1R4pp/6k1/1pB5/4p3/8/b1P2PPP/4K3 w - - 0 28', '8/6pp/6k1/1RB5/4p3/8/b1P2PPP/4K3 b - - 0 28', '8/6pp/6k1/1RBb4/4p3/8/2P2PPP/4K3 w - - 1 29', '8/6pp/6k1/1R1b4/3Bp3/8/2P2PPP/4K3 b - - 2 29', '8/6p1/6k1/1R1b3p/3Bp3/8/2P2PPP/4K3 w - - 0 30', '8/6p1/6k1/3R3p/3Bp3/8/2P2PPP/4K3 b - - 0 30']\n"
     ]
    }
   ],
   "source": [
    "import chess.pgn\n",
    "\n",
    "def get_fen_list_from_pgn_file(pgn_file_path):\n",
    "    # Open the PGN file\n",
    "    with open(pgn_file_path, 'r') as pgn:\n",
    "        game = chess.pgn.read_game(pgn)\n",
    "    \n",
    "    # Initialize an empty list to store FEN strings\n",
    "    fen_list = []\n",
    "    \n",
    "    # Initialize the board from the game\n",
    "    board = game.board()\n",
    "    \n",
    "    # Iterate through all mainline moves\n",
    "    for move in game.mainline_moves():\n",
    "        # Push the move to the board\n",
    "        board.push(move)\n",
    "        \n",
    "        # Get the FEN string of the current board state\n",
    "        fen_str = board.fen()\n",
    "        \n",
    "        # Append the FEN string to the list\n",
    "        fen_list.append(fen_str)\n",
    "    \n",
    "    return fen_list\n",
    "\n",
    "# Example usage\n",
    "fen_list = get_fen_list_from_pgn_file('/Users/tamasmakos/dev/chess.com_assessment/graph_analysis/tamasmakos_vs_cartierer_2023.10.06.pgn')\n",
    "print(fen_list)\n"
   ]
  }
 ],
 "metadata": {
  "kernelspec": {
   "display_name": "Python 3",
   "language": "python",
   "name": "python3"
  },
  "language_info": {
   "codemirror_mode": {
    "name": "ipython",
    "version": 3
   },
   "file_extension": ".py",
   "mimetype": "text/x-python",
   "name": "python",
   "nbconvert_exporter": "python",
   "pygments_lexer": "ipython3",
   "version": "3.11.5"
  }
 },
 "nbformat": 4,
 "nbformat_minor": 2
}
